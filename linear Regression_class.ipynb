{
 "cells": [
  {
   "cell_type": "code",
   "execution_count": 1,
   "id": "f75a3962",
   "metadata": {},
   "outputs": [],
   "source": [
    "import numpy as np\n",
    "import pandas as pd\n",
    "import matplotlib.pyplot as plt\n",
    "import seaborn as sns\n",
    "from sklearn.metrics import *"
   ]
  },
  {
   "cell_type": "markdown",
   "id": "68651eaa",
   "metadata": {},
   "source": [
    "$$c=\\frac{\\sum y-m\\sum x}{n} $$"
   ]
  },
  {
   "cell_type": "markdown",
   "id": "2edff03a",
   "metadata": {},
   "source": [
    "$$ m=\\frac{n\\sum xy-\\sum x\\sum y}{n\\sum x^2-\\left ( \\sum x \\right )^2} $$"
   ]
  },
  {
   "cell_type": "markdown",
   "id": "f996e0e6",
   "metadata": {},
   "source": [
    "$$error=\\sum \\left ( y_{orgi}-\\ y_{pred}  \\right )^{2} $$"
   ]
  },
  {
   "cell_type": "code",
   "execution_count": 2,
   "id": "df5c5eb7",
   "metadata": {},
   "outputs": [],
   "source": [
    "dict = {\n",
    "    'x':np.arange(1,8),\n",
    "    'y':np.array([1.5,3.8,6.7,9.0,11.2,13.6,16.0])\n",
    "    \n",
    "}\n",
    "\n",
    "dataFrame=pd.DataFrame(dict)"
   ]
  },
  {
   "cell_type": "code",
   "execution_count": 3,
   "id": "619b43b6",
   "metadata": {},
   "outputs": [
    {
     "name": "stdout",
     "output_type": "stream",
     "text": [
      "error : 0.16857142857142873 \n",
      "R2-score error  :0.99896818873402\n",
      "MSE : 0.024081632653061246 \n",
      "MAE : 0.0857142857142903\n"
     ]
    }
   ],
   "source": [
    "# Linear_Regression \n",
    "#class function\n",
    "\n",
    "class Linear_Regression():\n",
    "    \n",
    "    def __init__(self, dataFrame):\n",
    "        \n",
    "        self.dataFrame = dataFrame\n",
    "        self.m = None\n",
    "        self.c = None\n",
    "        self.y_org = None\n",
    "        self.y_pred = None\n",
    "        \n",
    "        self.rss_sum=0\n",
    "        self.tss_sum=0\n",
    "        \n",
    "        self.y_mean=0\n",
    "        self.R2=0\n",
    "        self.mse=0\n",
    "        self.mae=0\n",
    "    \n",
    "# training function\n",
    "\n",
    "    def training(self, sum_x, sum_y, sum_x2, sum_x_2, sum_xy, n):\n",
    "        self.sum_x = sum_x\n",
    "        self.sum_y = sum_y\n",
    "        self.sum_x2 = sum_x2\n",
    "        self.sum_x_2 = sum_x_2\n",
    "        self.sum_xy = sum_xy\n",
    "        self.n = n\n",
    "        \n",
    "\n",
    "        numerator = (n*sum_xy) - (sum_x * sum_y)\n",
    "   \n",
    "        denomunator = (n*self.sum_x2) - (sum_x_2)\n",
    "    \n",
    "        self.m = numerator / denomunator\n",
    "       \n",
    "        self.c = (sum_y - (self.m*sum_x))/n\n",
    "        \n",
    "        return self.m, self.c\n",
    "    \n",
    "# fit function\n",
    "\n",
    "    def fit(self):\n",
    "           \n",
    "        x = np.arange(1,8)\n",
    "        \n",
    "        self.y_pred =((self.m*x)+self.c)\n",
    "        \n",
    "        self.y_org = dataFrame['y'].values\n",
    "        \n",
    "        return self.y_org, self.y_pred \n",
    "    \n",
    "# error function \n",
    "\n",
    "    def R2_error(self):\n",
    "        \n",
    "        error_ = sum([(y_orig - y_predi)**2 for y_orig, y_predi in zip( self.y_org , self.y_pred )])\n",
    "        \n",
    "        for y_pre,y_or in zip(self.y_org, self.y_pred ):\n",
    "             self.rss_sum+=(y_pre - y_or)**2\n",
    "                \n",
    "        self. y_mean=sum(self.y_org)/len(self.y_org)\n",
    "        \n",
    "        for Y_org in self.y_org:\n",
    "            self.tss_sum+=(Y_org-self.y_mean)**2\n",
    "            \n",
    "        self.R2=1-(self.rss_sum/self.tss_sum)\n",
    "        \n",
    "        print('error : {} '.format(error_))\n",
    "        print('R2-score error  :{}'.format(self.R2) )\n",
    "        \n",
    "    def MSE_MAE(self):\n",
    "        \n",
    "        self.mse=mean_squared_error(self.y_pred,self.y_org)\n",
    "        self.mae=median_absolute_error(self.y_pred,self.y_org)\n",
    "    \n",
    "        print('MSE : {} \\nMAE : {}' .format(self.mse,self.mae))\n",
    "    \n",
    "#creating dataset with dict.....\n",
    "\n",
    "dataFrame['sum_xy'] = dataFrame['x']*dataFrame['y']\n",
    "sum_xy = dataFrame['sum_xy'].sum()\n",
    "sum_x = dataFrame['x'].sum()\n",
    "sum_y = dataFrame['y'].sum()\n",
    "sum_x2 = (dataFrame['x']**2).sum()\n",
    "sum_x_2 = (dataFrame['x'].sum())**2\n",
    "n = len(dataFrame)\n",
    "\n",
    "#calling class and objects\n",
    "\n",
    "obj = Linear_Regression(dataFrame)\n",
    "obj.training(sum_x, sum_y, sum_x2, sum_x_2, sum_xy, n) \n",
    "obj.fit()\n",
    "obj.R2_error()\n",
    "obj.MSE_MAE()\n",
    "\n",
    "\n"
   ]
  },
  {
   "cell_type": "code",
   "execution_count": null,
   "id": "d4cfe4f7",
   "metadata": {},
   "outputs": [],
   "source": []
  },
  {
   "cell_type": "code",
   "execution_count": null,
   "id": "b9a3a74f",
   "metadata": {},
   "outputs": [],
   "source": []
  }
 ],
 "metadata": {
  "kernelspec": {
   "display_name": "Python 3",
   "language": "python",
   "name": "python3"
  },
  "language_info": {
   "codemirror_mode": {
    "name": "ipython",
    "version": 3
   },
   "file_extension": ".py",
   "mimetype": "text/x-python",
   "name": "python",
   "nbconvert_exporter": "python",
   "pygments_lexer": "ipython3",
   "version": "3.8.8"
  }
 },
 "nbformat": 4,
 "nbformat_minor": 5
}
