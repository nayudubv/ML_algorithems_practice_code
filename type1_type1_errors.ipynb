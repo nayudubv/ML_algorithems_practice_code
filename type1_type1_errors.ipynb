{
 "cells": [
  {
   "cell_type": "code",
   "execution_count": 73,
   "id": "33068404",
   "metadata": {},
   "outputs": [],
   "source": [
    "import numpy as np \n",
    "import pandas as pd\n",
    "import matplotlib.pyplot as plt\n",
    "from sklearn.metrics import * "
   ]
  },
  {
   "cell_type": "markdown",
   "id": "c00799d7",
   "metadata": {},
   "source": [
    "## comfusion metrix, f1_score, precision_score, recall_score, accuracy_score, classification_report ."
   ]
  },
  {
   "cell_type": "code",
   "execution_count": 74,
   "id": "e5a3370d",
   "metadata": {},
   "outputs": [
    {
     "name": "stdout",
     "output_type": "stream",
     "text": [
      "confusion_matrix\n",
      " [[4 2]\n",
      " [1 3]]\n",
      "\n",
      "classification_report\n",
      "               precision    recall  f1-score   support\n",
      "\n",
      "           0       0.80      0.67      0.73         6\n",
      "           1       0.60      0.75      0.67         4\n",
      "\n",
      "    accuracy                           0.70        10\n",
      "   macro avg       0.70      0.71      0.70        10\n",
      "weighted avg       0.72      0.70      0.70        10\n",
      "\n",
      "F1_score 0.6666666666666665\n",
      "\n",
      "precision_score 0.6\n",
      "\n",
      "recall_score 0.75\n",
      "\n",
      "accuracy_score 0.7\n"
     ]
    }
   ],
   "source": [
    "class Score():\n",
    "    def __init__(self,T,P):\n",
    "        self.T=T\n",
    "        self.P=P\n",
    "    # creating metrx function\n",
    "    def Metrix(self):\n",
    "        \n",
    "        # confusion metrixs\n",
    "        c=confusion_matrix(self.T,self.P)\n",
    "        print('confusion_matrix\\n',c)\n",
    "        \n",
    "        #classification_report\n",
    "        C=classification_report(self.T,self.P)\n",
    "        print('\\nclassification_report\\n',C)\n",
    "        \n",
    "    # creating score function\n",
    "    def F1_Score(self):\n",
    "        \n",
    "        # f1_score \n",
    "        f=f1_score(self.T,self.P)\n",
    "        print(\"F1_score\",f)\n",
    "        \n",
    "        #precision_score\n",
    "        p=precision_score(self.T,self.P)\n",
    "        print('\\nprecision_score',p)\n",
    "        \n",
    "        #recall_score\n",
    "        r=recall_score(self.T,self.P)\n",
    "        print('\\nrecall_score',r)\n",
    "        \n",
    "        # accuarcy_score\n",
    "        a=accuracy_score(self.T,self.P)\n",
    "        print('\\naccuracy_score',a)\n",
    "   \n",
    "\n",
    "'''\n",
    "T=truth values\n",
    "P=predicted values\n",
    "'''\n",
    "T=[1,0,0,0,0,0,1,1,1,0]\n",
    "P=[1,1,1,0,0,0,1,1,0,0]\n",
    "\n",
    "# calling object and calling class function\n",
    "obj1=Score(T,P)\n",
    "#calling function\n",
    "obj1.Metrix()\n",
    "obj1.F1_Score()\n",
    "\n",
    "    \n"
   ]
  },
  {
   "cell_type": "code",
   "execution_count": null,
   "id": "46ee6d87",
   "metadata": {},
   "outputs": [],
   "source": []
  },
  {
   "cell_type": "code",
   "execution_count": null,
   "id": "4d5b9171",
   "metadata": {},
   "outputs": [],
   "source": []
  }
 ],
 "metadata": {
  "kernelspec": {
   "display_name": "Python 3",
   "language": "python",
   "name": "python3"
  },
  "language_info": {
   "codemirror_mode": {
    "name": "ipython",
    "version": 3
   },
   "file_extension": ".py",
   "mimetype": "text/x-python",
   "name": "python",
   "nbconvert_exporter": "python",
   "pygments_lexer": "ipython3",
   "version": "3.8.8"
  }
 },
 "nbformat": 4,
 "nbformat_minor": 5
}
